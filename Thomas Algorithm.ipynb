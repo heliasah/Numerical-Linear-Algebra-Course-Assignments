{
  "nbformat": 4,
  "nbformat_minor": 0,
  "metadata": {
    "colab": {
      "provenance": []
    },
    "kernelspec": {
      "name": "python3",
      "display_name": "Python 3"
    },
    "language_info": {
      "name": "python"
    }
  },
  "cells": [
    {
      "cell_type": "code",
      "source": [
        "import numpy as np\n",
        "import time\n",
        "\n",
        "def tdma(a, b, c, d):\n",
        "    n = len(b)\n",
        "    x = np.zeros(n)\n",
        "\n",
        "    for i in range(1, n):\n",
        "        q = a[i - 1] / b[i - 1]\n",
        "        b[i] -= c[i - 1] * q\n",
        "        d[i] -= d[i - 1] * q\n",
        "\n",
        "    x[n - 1] = d[n - 1] / b[n - 1]\n",
        "    for i in range(n - 2, -1, -1):\n",
        "        x[i] = (d[i] - c[i] * x[i + 1]) / b[i]\n",
        "\n",
        "    return x\n",
        "\n",
        "def coefficient_matrix_to_diagonals(coefficient_matrix):\n",
        "    n = len(coefficient_matrix)\n",
        "    a = np.zeros(n - 1)\n",
        "    b = np.zeros(n)\n",
        "    c = np.zeros(n - 1)\n",
        "\n",
        "    for i in range(n):\n",
        "        if i != 0:\n",
        "            a[i - 1] = coefficient_matrix[i][i - 1]\n",
        "        b[i] = coefficient_matrix[i][i]\n",
        "        if i != n - 1:\n",
        "            c[i] = coefficient_matrix[i][i + 1]\n",
        "\n",
        "    return {\n",
        "        'a': a,\n",
        "        'b': b,\n",
        "        'c': c\n",
        "    }\n",
        "\n",
        "def solver(coefficient_matrix, right_hand_side_vector):\n",
        "    diagonals = coefficient_matrix_to_diagonals(coefficient_matrix)\n",
        "    return tdma(diagonals['a'], diagonals['b'], diagonals['c'], right_hand_side_vector)\n",
        "\n",
        "\n",
        "n = int(input(\"Enter the number of dimensions (n): \"))\n",
        "\n",
        "A = np.zeros((n, n))\n",
        "\n",
        "\n",
        "for i in range(n):\n",
        "    if i == n - 1:\n",
        "        A[i][i] = 4\n",
        "    else:\n",
        "        A[i][i] = 5\n",
        "\n",
        "    if i == 0:\n",
        "        A[i][i + 1] = 2  # First super-diagonal element is 2\n",
        "    elif i < n - 1:\n",
        "        A[i][i + 1] = -1  # Other super-diagonal elements are -1\n",
        "\n",
        "    if i == n - 1:\n",
        "        A[i][i - 1] = 2  # Last sub-diagonal element is 2\n",
        "    elif i > 0:\n",
        "        A[i][i - 1] = 1  # Other sub-diagonal elements are 1\n",
        "\n",
        "\n",
        "min_value = 1\n",
        "max_value = 100\n",
        "rhs = np.random.randint(min_value, max_value + 1, size=n)\n",
        "\n",
        "\n",
        "start_time_tdma = time.time()\n",
        "solution_tdma = solver(A.tolist(), rhs.tolist())\n",
        "end_time_tdma = time.time()\n",
        "\n",
        "\n",
        "start_time_numpy = time.time()\n",
        "solution_numpy = np.linalg.solve(A, rhs)\n",
        "end_time_numpy = time.time()\n",
        "\n",
        "print(\"\\nTridiagonal Matrix A:\\n\", A)\n",
        "print(\"Random Right-hand Side Vector rhs:\", rhs)\n",
        "print(\"Solution Vector x (Thomas algorithm):\", solution_tdma)\n",
        "print(\"Solution Vector x (NumPy's solver):\", solution_numpy)\n",
        "\n",
        "print(f\"Runtime of Thomas algorithm: {end_time_tdma - start_time_tdma:.6f} seconds\")\n",
        "print(f\"Runtime of NumPy's built-in solver: {end_time_numpy - start_time_numpy:.6f} seconds\")\n"
      ],
      "metadata": {
        "colab": {
          "base_uri": "https://localhost:8080/"
        },
        "id": "gT9XV5c244Au",
        "outputId": "72fbcbca-d407-4d9d-cecd-4f6d4156912f"
      },
      "execution_count": 25,
      "outputs": [
        {
          "output_type": "stream",
          "name": "stdout",
          "text": [
            "Enter the number of dimensions (n): 6\n",
            "\n",
            "Tridiagonal Matrix A:\n",
            " [[ 5.  2.  0.  0.  0.  0.]\n",
            " [ 1.  5. -1.  0.  0.  0.]\n",
            " [ 0.  1.  5. -1.  0.  0.]\n",
            " [ 0.  0.  1.  5. -1.  0.]\n",
            " [ 0.  0.  0.  1.  5. -1.]\n",
            " [ 0.  0.  0.  0.  2.  4.]]\n",
            "Random Right-hand Side Vector rhs: [17 63 25 82 30 41]\n",
            "Solution Vector x (Thomas algorithm): [-2.25320739 14.13301847  5.41188496 16.19244325  4.37410123  8.06294939]\n",
            "Solution Vector x (NumPy's solver): [-2.25320739 14.13301847  5.41188496 16.19244325  4.37410123  8.06294939]\n",
            "Runtime of Thomas algorithm: 0.000112 seconds\n",
            "Runtime of NumPy's built-in solver: 0.000166 seconds\n"
          ]
        }
      ]
    }
  ]
}