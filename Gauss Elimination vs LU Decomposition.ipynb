{
  "nbformat": 4,
  "nbformat_minor": 0,
  "metadata": {
    "colab": {
      "provenance": []
    },
    "kernelspec": {
      "name": "python3",
      "display_name": "Python 3"
    },
    "language_info": {
      "name": "python"
    }
  },
  "cells": [
    {
      "cell_type": "code",
      "source": [
        "import time\n",
        "import numpy as np\n",
        "\n",
        "\n",
        "A = np.array([\n",
        "    [4, -1, 0, 0, 0, -1],\n",
        "    [-1, 4, -1, 0, 0, 0],\n",
        "    [0, -1, 4, -1, 0, 0],\n",
        "    [0, 0, -1, 4, -1, 0],\n",
        "    [0, 0, 0, -1, 4, -1],\n",
        "    [-1, 0, 0, 0, -1, 4]\n",
        "])\n",
        "\n",
        "\n",
        "def gaussian_elimination(A, b):\n",
        "    n = len(A)\n",
        "    augmented_matrix = np.hstack([A, b.reshape(-1, 1)]).astype(float)\n",
        "    for i in range(n):\n",
        "        current_column = augmented_matrix[i:, i]\n",
        "\n",
        "        max_row = np.argmax(np.abs(current_column)) + i\n",
        "        augmented_matrix[[i, max_row]] = augmented_matrix[[max_row, i]]  # Swap rows\n",
        "\n",
        "        for j in range(i + 1, n):\n",
        "            ratio = augmented_matrix[j, i] / augmented_matrix[i, i]\n",
        "            augmented_matrix[j, i:] -= ratio * augmented_matrix[i, i:]\n",
        "\n",
        "    x = np.zeros(n)\n",
        "    for i in range(n - 1, -1, -1):\n",
        "        x[i] = (augmented_matrix[i, -1] - np.dot(augmented_matrix[i, i + 1:n], x[i + 1:n])) / augmented_matrix[i, i]\n",
        "\n",
        "    return x\n",
        "\n",
        "\n",
        "def lu_decomposition(A, b=None):\n",
        "    n = A.shape[0]\n",
        "    L = np.zeros((n, n)).astype(float)\n",
        "    U = np.zeros((n, n)).astype(float)\n",
        "\n",
        "    for i in range(n):\n",
        "        for k in range(i, n):\n",
        "            U[i, k] = A[i, k] - sum(L[i, j] * U[j, k] for j in range(i))\n",
        "\n",
        "        L[i, i] = 1\n",
        "        for k in range(i + 1, n):\n",
        "            L[k, i] = (A[k, i] - sum(L[k, j] * U[j, i] for j in range(i))) / U[i, i]\n",
        "\n",
        "    if b is not None:\n",
        "        y = np.zeros(n)\n",
        "        for i in range(n):\n",
        "            y[i] = b[i] - sum(L[i, j] * y[j] for j in range(i))\n",
        "        x = np.zeros(n)\n",
        "        for i in range(n - 1, -1, -1):\n",
        "            x[i] = (y[i] - sum(U[i, j] * x[j] for j in range(i + 1, n))) / U[i, i]\n",
        "\n",
        "        return x\n",
        "    return L, U\n",
        "\n",
        "\n",
        "def generate_random_vectors(n=100000, size=6):\n",
        "    return np.random.choice(np.arange(1, 10), size=(n, size))\n",
        "\n",
        "\n",
        "b_vectors = generate_random_vectors()\n",
        "\n",
        "\n",
        "start_gaussian = time.time()\n",
        "results_gaussian = np.array([gaussian_elimination(A, b) for b in b_vectors])\n",
        "time_gaussian = time.time() - start_gaussian\n",
        "start_lu = time.time()\n",
        "results_lu = np.array([lu_decomposition(A, b) for b in b_vectors])\n",
        "time_lu = time.time() - start_lu\n",
        "\n",
        "print(f\"Time for Gaussian Elimination: {time_gaussian} seconds\")\n",
        "print(f\"Time for LU Decomposition: {time_lu} seconds\")\n"
      ],
      "metadata": {
        "colab": {
          "base_uri": "https://localhost:8080/"
        },
        "id": "IwJRrImrfiO7",
        "outputId": "992c7a89-faab-41dc-c73f-d22508e312c3"
      },
      "execution_count": 21,
      "outputs": [
        {
          "output_type": "stream",
          "name": "stdout",
          "text": [
            "Time for Gaussian Elimination: 17.11025834083557 seconds\n",
            "Time for LU Decomposition: 13.945204019546509 seconds\n"
          ]
        }
      ]
    }
  ]
}